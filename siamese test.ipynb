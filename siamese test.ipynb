{
 "cells": [
  {
   "cell_type": "code",
   "execution_count": 11,
   "metadata": {},
   "outputs": [],
   "source": [
    "import random\n",
    "from keras.datasets import mnist\n",
    "from keras.models import Model\n",
    "from keras.layers import Input, Flatten, Dense, Dropout, Lambda\n",
    "from keras.optimizers import RMSprop\n",
    "from keras import backend as K\n",
    "import numpy as np"
   ]
  },
  {
   "cell_type": "code",
   "execution_count": 2,
   "metadata": {},
   "outputs": [],
   "source": [
    "num_classes = 10\n",
    "epochs = 20"
   ]
  },
  {
   "cell_type": "code",
   "execution_count": 3,
   "metadata": {},
   "outputs": [],
   "source": [
    "def euclidean_distance(vects):\n",
    "    x, y = vects\n",
    "    return K.sqrt(K.maximum(K.sum(K.square(x - y), axis=1, keepdims=True), K.epsilon()))\n",
    "\n",
    "\n",
    "def eucl_dist_output_shape(shapes):\n",
    "    shape1, shape2 = shapes\n",
    "    return (shape1[0], 1)\n",
    "\n",
    "\n",
    "def contrastive_loss(y_true, y_pred):\n",
    "    '''Contrastive loss from Hadsell-et-al.'06\n",
    "    http://yann.lecun.com/exdb/publis/pdf/hadsell-chopra-lecun-06.pdf\n",
    "    '''\n",
    "    margin = 1\n",
    "    return K.mean(y_true * K.square(y_pred) +\n",
    "(1 - y_true) * K.square(K.maximum(margin - y_pred, 0)))"
   ]
  },
  {
   "cell_type": "code",
   "execution_count": 4,
   "metadata": {},
   "outputs": [],
   "source": [
    "def create_pairs(x, digit_indices):\n",
    "    '''Positive and negative pair creation.\n",
    "    Alternates between positive and negative pairs.\n",
    "    '''\n",
    "    pairs = []\n",
    "    labels = []\n",
    "    n = min([len(digit_indices[d]) for d in range(num_classes)]) - 1\n",
    "    for d in range(num_classes):\n",
    "        for i in range(n):\n",
    "            z1, z2 = digit_indices[d][i], digit_indices[d][i + 1]\n",
    "            pairs += [[x[z1], x[z2]]]\n",
    "            inc = random.randrange(1, num_classes)\n",
    "            dn = (d + inc) % num_classes\n",
    "            z1, z2 = digit_indices[d][i], digit_indices[dn][i]\n",
    "            pairs += [[x[z1], x[z2]]]\n",
    "            labels += [1, 0]\n",
    "    return np.array(pairs), np.array(labels)\n"
   ]
  },
  {
   "cell_type": "code",
   "execution_count": 6,
   "metadata": {},
   "outputs": [],
   "source": [
    "def create_base_network(input_shape):\n",
    "    '''Base network to be shared (eq. to feature extraction).\n",
    "    '''\n",
    "    input = Input(shape=input_shape)\n",
    "    x = Flatten()(input)\n",
    "    x = Dense(128, activation='relu')(x)\n",
    "    x = Dropout(0.1)(x)\n",
    "    x = Dense(128, activation='relu')(x)\n",
    "    x = Dropout(0.1)(x)\n",
    "    x = Dense(128, activation='relu')(x)\n",
    "    return Model(input, x)"
   ]
  },
  {
   "cell_type": "code",
   "execution_count": 7,
   "metadata": {},
   "outputs": [],
   "source": [
    "def compute_accuracy(y_true, y_pred):\n",
    "    '''Compute classification accuracy with a fixed threshold on distances.\n",
    "    '''\n",
    "    pred = y_pred.ravel() < 0.5\n",
    "    return np.mean(pred == y_true)\n"
   ]
  },
  {
   "cell_type": "code",
   "execution_count": 8,
   "metadata": {},
   "outputs": [],
   "source": [
    "def accuracy(y_true, y_pred):\n",
    "    '''Compute classification accuracy with a fixed threshold on distances.\n",
    "    '''\n",
    "    return K.mean(K.equal(y_true, K.cast(y_pred < 0.5, y_true.dtype)))\n"
   ]
  },
  {
   "cell_type": "code",
   "execution_count": 9,
   "metadata": {},
   "outputs": [],
   "source": [
    "(x_train, y_train), (x_test, y_test) = mnist.load_data()\n",
    "x_train = x_train.astype('float32')\n",
    "x_test = x_test.astype('float32')\n",
    "x_train /= 255\n",
    "x_test /= 255\n",
    "input_shape = x_train.shape[1:]\n"
   ]
  },
  {
   "cell_type": "code",
   "execution_count": 12,
   "metadata": {},
   "outputs": [],
   "source": [
    "digit_indices = [np.where(y_train == i)[0] for i in range(num_classes)]\n",
    "tr_pairs, tr_y = create_pairs(x_train, digit_indices)\n",
    "\n",
    "digit_indices = [np.where(y_test == i)[0] for i in range(num_classes)]\n",
    "te_pairs, te_y = create_pairs(x_test, digit_indices)\n"
   ]
  },
  {
   "cell_type": "code",
   "execution_count": 13,
   "metadata": {},
   "outputs": [],
   "source": [
    "base_network = create_base_network(input_shape)\n",
    "\n",
    "input_a = Input(shape=input_shape)\n",
    "input_b = Input(shape=input_shape)"
   ]
  },
  {
   "cell_type": "code",
   "execution_count": 14,
   "metadata": {},
   "outputs": [],
   "source": [
    "processed_a = base_network(input_a)\n",
    "processed_b = base_network(input_b)\n",
    "\n",
    "distance = Lambda(euclidean_distance,\n",
    "                  output_shape=eucl_dist_output_shape)([processed_a, processed_b])\n",
    "\n",
    "model = Model([input_a, input_b], distance)"
   ]
  },
  {
   "cell_type": "code",
   "execution_count": 15,
   "metadata": {},
   "outputs": [],
   "source": [
    "rms = RMSprop()\n",
    "model.compile(loss=contrastive_loss, optimizer=rms, metrics=[accuracy])"
   ]
  },
  {
   "cell_type": "code",
   "execution_count": 16,
   "metadata": {},
   "outputs": [
    {
     "name": "stdout",
     "output_type": "stream",
     "text": [
      "Train on 108400 samples, validate on 17820 samples\n",
      "Epoch 1/20\n",
      "108400/108400 [==============================] - 11s 97us/step - loss: 0.0957 - accuracy: 0.8861 - val_loss: 0.0431 - val_accuracy: 0.9580\n",
      "Epoch 2/20\n",
      "108400/108400 [==============================] - 10s 94us/step - loss: 0.0393 - accuracy: 0.9630 - val_loss: 0.0285 - val_accuracy: 0.9684\n",
      "Epoch 3/20\n",
      "108400/108400 [==============================] - 10s 94us/step - loss: 0.0266 - accuracy: 0.9734 - val_loss: 0.0241 - val_accuracy: 0.9751\n",
      "Epoch 4/20\n",
      "108400/108400 [==============================] - 10s 95us/step - loss: 0.0206 - accuracy: 0.9788 - val_loss: 0.0234 - val_accuracy: 0.9724\n",
      "Epoch 5/20\n",
      "108400/108400 [==============================] - 10s 96us/step - loss: 0.0175 - accuracy: 0.9820 - val_loss: 0.0224 - val_accuracy: 0.9745\n",
      "Epoch 6/20\n",
      "108400/108400 [==============================] - 10s 94us/step - loss: 0.0157 - accuracy: 0.9836 - val_loss: 0.0217 - val_accuracy: 0.9746\n",
      "Epoch 7/20\n",
      "108400/108400 [==============================] - 10s 93us/step - loss: 0.0135 - accuracy: 0.9859 - val_loss: 0.0208 - val_accuracy: 0.9755\n",
      "Epoch 8/20\n",
      "108400/108400 [==============================] - 10s 94us/step - loss: 0.0124 - accuracy: 0.9871 - val_loss: 0.0208 - val_accuracy: 0.9750\n",
      "Epoch 9/20\n",
      "108400/108400 [==============================] - 10s 95us/step - loss: 0.0117 - accuracy: 0.9877 - val_loss: 0.0223 - val_accuracy: 0.9732\n",
      "Epoch 10/20\n",
      "108400/108400 [==============================] - 10s 94us/step - loss: 0.0107 - accuracy: 0.9888 - val_loss: 0.0229 - val_accuracy: 0.9729\n",
      "Epoch 11/20\n",
      "108400/108400 [==============================] - 10s 95us/step - loss: 0.0104 - accuracy: 0.9888 - val_loss: 0.0216 - val_accuracy: 0.9749\n",
      "Epoch 12/20\n",
      "108400/108400 [==============================] - 10s 94us/step - loss: 0.0097 - accuracy: 0.9899 - val_loss: 0.0216 - val_accuracy: 0.9747\n",
      "Epoch 13/20\n",
      "108400/108400 [==============================] - 10s 93us/step - loss: 0.0096 - accuracy: 0.9900 - val_loss: 0.0227 - val_accuracy: 0.9730\n",
      "Epoch 14/20\n",
      "108400/108400 [==============================] - 10s 94us/step - loss: 0.0091 - accuracy: 0.9905 - val_loss: 0.0215 - val_accuracy: 0.9751\n",
      "Epoch 15/20\n",
      "108400/108400 [==============================] - 10s 95us/step - loss: 0.0089 - accuracy: 0.9908 - val_loss: 0.0220 - val_accuracy: 0.9743\n",
      "Epoch 16/20\n",
      "108400/108400 [==============================] - 10s 94us/step - loss: 0.0083 - accuracy: 0.9915 - val_loss: 0.0219 - val_accuracy: 0.9749\n",
      "Epoch 17/20\n",
      "108400/108400 [==============================] - 10s 96us/step - loss: 0.0082 - accuracy: 0.9913 - val_loss: 0.0227 - val_accuracy: 0.9747\n",
      "Epoch 18/20\n",
      "108400/108400 [==============================] - 10s 94us/step - loss: 0.0082 - accuracy: 0.9913 - val_loss: 0.0224 - val_accuracy: 0.9739\n",
      "Epoch 19/20\n",
      "108400/108400 [==============================] - 10s 94us/step - loss: 0.0079 - accuracy: 0.9916 - val_loss: 0.0218 - val_accuracy: 0.9745\n",
      "Epoch 20/20\n",
      "108400/108400 [==============================] - 11s 98us/step - loss: 0.0078 - accuracy: 0.9918 - val_loss: 0.0219 - val_accuracy: 0.9744\n"
     ]
    },
    {
     "data": {
      "text/plain": [
       "<keras.callbacks.History at 0x7f1aa90ec0f0>"
      ]
     },
     "execution_count": 16,
     "metadata": {},
     "output_type": "execute_result"
    }
   ],
   "source": [
    "model.fit([tr_pairs[:, 0], tr_pairs[:, 1]], tr_y,\n",
    "          batch_size=128,\n",
    "          epochs=epochs,\n",
    "          validation_data=([te_pairs[:, 0], te_pairs[:, 1]], te_y))\n"
   ]
  },
  {
   "cell_type": "code",
   "execution_count": null,
   "metadata": {},
   "outputs": [],
   "source": []
  }
 ],
 "metadata": {
  "kernelspec": {
   "display_name": "Python 3",
   "language": "python",
   "name": "python3"
  },
  "language_info": {
   "codemirror_mode": {
    "name": "ipython",
    "version": 3
   },
   "file_extension": ".py",
   "mimetype": "text/x-python",
   "name": "python",
   "nbconvert_exporter": "python",
   "pygments_lexer": "ipython3",
   "version": "3.6.5"
  }
 },
 "nbformat": 4,
 "nbformat_minor": 2
}
